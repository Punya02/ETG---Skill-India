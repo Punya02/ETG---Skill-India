{
  "nbformat": 4,
  "nbformat_minor": 0,
  "metadata": {
    "colab": {
      "name": "IMS(ETS)Main_project.ipynb",
      "provenance": [],
      "collapsed_sections": []
    },
    "kernelspec": {
      "name": "python3",
      "display_name": "Python 3"
    },
    "language_info": {
      "name": "python"
    }
  },
  "cells": [
    {
      "cell_type": "code",
      "metadata": {
        "id": "ev3Fyi8LJ1Qr"
      },
      "source": [
        "import json                                                                                        # Importing libraries\n",
        "import time"
      ],
      "execution_count": 39,
      "outputs": []
    },
    {
      "cell_type": "code",
      "metadata": {
        "id": "rToLTAW8J5hz"
      },
      "source": [
        "sales = {}                                                                                         # Generating sales file \n",
        "                                                                                                   \n",
        "sales = json.dumps(sales)\n",
        "\n",
        "fd = open(\"sales.json\", 'w')\n",
        "fd.write(sales)\n",
        "fd.close()"
      ],
      "execution_count": 40,
      "outputs": []
    },
    {
      "cell_type": "code",
      "metadata": {
        "colab": {
          "base_uri": "https://localhost:8080/"
        },
        "id": "JRKLtlgd2OUH",
        "outputId": "1d763370-4993-47f6-bc16-4d3dee1d80d1"
      },
      "source": [
        "fd = open('record.json','r')                                                                       # Opening record file from the system\n",
        "r = fd.read()\n",
        "fd.close()\n",
        "data = json.loads(r)                                                                               # converting string record files to dictionary\n",
        "\n",
        "fd = open(\"sales.json\", 'r')                                                                       # Opening sales file \n",
        "sl = fd.read()\n",
        "fd.close()\n",
        "sales = json.loads(sl)                                                                             # converting string sales files to dictionary \n",
        "\n",
        "print(\"*********************************************************************************\\n\")       # printing the PRODUCT LIST of product\n",
        "print(\"----------------------------------PRODUCT LIST-----------------------------------\\n\")\n",
        "\n",
        "for i in data.keys():\n",
        "  print(i , data[i])\n",
        "\n",
        "print(\"*********************************************************************************\\n\")  \n",
        "\n",
        "\n",
        "product_id = str(input('Enter Product ID :'))                                                      # Taking order from user \n",
        "product_Quantity = int(input('Enter quantity :'))\n",
        "\n",
        "\n",
        "if (product_id in data.keys()):                                                                    # checking if product user asked ,is in the list or not\n",
        "\n",
        "  if (data[product_id]['qn'] >= product_Quantity):                                                 # checking if the quantity satisfy with the user requirment\n",
        "    print('************************')\n",
        "    print(\"Product: \", data[product_id]['name'])\n",
        "    print(\"Price: \", data[product_id]['pr'])\n",
        "    print(\"Quantity:\", product_Quantity)\n",
        "    print('************************')\n",
        "    print(\"Billing Amount: \", data[product_id]['pr'] * product_Quantity)\n",
        "    print('-------------------------')\n",
        "\n",
        "    data[product_id]['qn'] = data[product_id]['qn'] - product_Quantity                             # updating the quantity in records file\n",
        "\n",
        "\n",
        "    sales[str(len(sales)+1)] = {'prod_id' : product_id,                                            # updating the sale in sales file      \n",
        "                            \"time_pr\" :  time.ctime(), \n",
        "                            'bill' : data[product_id]['pr'] * data[product_id]['qn'], \n",
        "                            'qn' : data[product_id]['qn'], \n",
        "                            'pr' : data[product_id]['pr'], \n",
        "                            'pr_name' : data[product_id]['name']}\n",
        "\n",
        "    \n",
        "  else:                                                                                            #letting user know , if he asked for more quantity than available\n",
        "      print('Sorry , we are having only ',data[product_Quantity]['qn'] ,'quantity .')              \n",
        "      print('would you like to purchase it (Y/N)')  \n",
        "      user = str(input('Y/N')) \n",
        "      \n",
        "      \n",
        "      if (user == 'Y'):                                                                            # if user wants to purchase available quantity\n",
        "        print('************************')\n",
        "        print(\"Product: \", data[product_id]['name'])\n",
        "        print(\"Price: \", data[product_id]['pr'])\n",
        "        print(\"Quantity:\", data[product_Quantity]['qn'])\n",
        "        print('************************')\n",
        "        print(\"Billing Amount: \", data[product_id]['pr'] * product_Quantity)\n",
        "        print('-------------------------')\n",
        "\n",
        "\n",
        "        data[product_id]['qn'] = 0                                                                 # update the quantity in records file\n",
        "\n",
        "        sales[str(len(sales)+1)] = {'prod_id' : product_id,                                        # update sales in sale file\n",
        "                            \"time_pr\" :  time.ctime(), \n",
        "                            'bill' : data[product_id]['pr'] * data[product_id]['qn'], \n",
        "                            'qn' : data[product_id]['qn'], \n",
        "                            'pr' : data[product_id]['pr'], \n",
        "                            'pr_name' : data[product_id]['name']}\n",
        "\n",
        "\n",
        "      else:                                                                                        # when user didn't want to purchase the products\n",
        "        print(\"Thankyou!\")        \n",
        "\n",
        "else:                                                                                              # if user enter invalid id\n",
        "  print('-------------------------')\n",
        "  print('product does not exist')\n",
        "  print('please enter valid product id ')\n",
        "  print('-------------------------')\n",
        "\n",
        "\n",
        "sl = json.dumps(sales)                                                                             # updating sales file\n",
        "\n",
        "fd = open('sales.json','w')\n",
        "fd.write(sl)\n",
        "fd.close()                                                                                                  \n",
        "\n",
        "print(\"------------------------------\")\n",
        "print(\"Data Updated in Sales File!\")\n",
        "\n",
        "js = json.dumps(data)\n",
        "\n",
        "fd = open('record.json','w')                                                                       # updating inventory\n",
        "fd.write(js)\n",
        "fd.close()\n",
        "\n",
        "print(\"Data Updated in Inventory File!\")\n",
        "\n",
        "\n",
        "\n"
      ],
      "execution_count": 49,
      "outputs": [
        {
          "output_type": "stream",
          "name": "stdout",
          "text": [
            "*********************************************************************************\n",
            "\n",
            "----------------------------------PRODUCT LIST-----------------------------------\n",
            "\n",
            "1001 {'name': 'Sarees', 'pr': 1000, 'qn': 34, 'Brand': 'ziva', 'color': 'pink'}\n",
            "1002 {'name': 'Pants', 'pr': 500, 'qn': 100, 'Brand': 'levis', 'color': 'blue'}\n",
            "1003 {'name': 'Skirts', 'pr': 600, 'qn': 100, 'Brand': 'h&m', 'color': 'white'}\n",
            "1004 {'name': 'Plazzo', 'pr': 500, 'qn': 1000, 'Brand': 'kotty', 'color': 'grey'}\n",
            "1005 {'name': 'Shirts', 'pr': 400, 'qn': 95, 'Brand': 'biba', 'color': 'red'}\n",
            "1006 {'name': 'T-Shirts', 'pr': 600, 'qn': 10, 'Brand': 'zara', 'color': 'white'}\n",
            "1007 {'name': 'Tops', 'pr': 500, 'qn': 0, 'Brand': 'h&m', 'color': 'white'}\n",
            "1008 {'name': 'Kurtas', 'pr': 500, 'qn': 5, 'Brand': 'h&m', 'color': 'white'}\n",
            "1009 {'name': 'Kurtis', 'pr': 300, 'qn': 10, 'Brand': 'levis', 'color': 'pink'}\n",
            "1010 {'name': 'Suits', 'pr': 800, 'qn': 200, 'Brand': 'h&m', 'color': 'blue'}\n",
            "1011 {'name': 'Dress', 'pr': 600, 'qn': 50, 'Brand': 'h&m', 'color': 'grey'}\n",
            "1012 {'name': 'Jeans', 'pr': 500, 'qn': 100, 'Brand': 'levis', 'color': 'pink'}\n",
            "1013 {'name': 'Shorts', 'pr': 200, 'qn': 100, 'Brand': 'kotty', 'color': 'blue'}\n",
            "1014 {'name': 'Trousers', 'pr': 500, 'qn': 500, 'Brand': 'kotty', 'color': 'grey'}\n",
            "1015 {'name': 'Joggers', 'pr': 700, 'qn': 60, 'Brand': 'kotty', 'color': 'pink'}\n",
            "1016 {'name': 'Tank-Tops', 'pr': 200, 'qn': 200, 'Brand': 'levis', 'color': 'red'}\n",
            "1017 {'name': 'Crop-Tops', 'pr': 200, 'qn': 100, 'Brand': 'h&m', 'color': 'grey'}\n",
            "1018 {'name': 'Belts', 'pr': 50, 'qn': 50, 'Brand': 'kotty', 'color': 'blue'}\n",
            "1019 {'name': 'Scarfs', 'pr': 50, 'qn': 10, 'Brand': 'levis', 'color': 'pink'}\n",
            "1020 {'name': 'Sweaters', 'pr': 600, 'qn': 200, 'Brand': 'h&m', 'color': 'blue'}\n",
            "1021 {'name': 'SweatShirts', 'pr': 600, 'qn': 500, 'Brand': 'h&m', 'color': 'red'}\n",
            "1022 {'name': 'Coats', 'pr': 900, 'qn': 500, 'Brand': 'h&m', 'color': 'grey'}\n",
            "1023 {'name': 'Jackets', 'pr': 800, 'qn': 500, 'Brand': 'h&m', 'color': 'blue'}\n",
            "1024 {'name': 'Gowns', 'pr': 600, 'qn': 500, 'Brand': 'h&m', 'color': 'pink'}\n",
            "1025 {'name': 'Socks', 'pr': 50, 'qn': 100, 'Brand': 'kotty', 'color': 'red'}\n",
            "1026 {'name': 'Hand-Gloves', 'pr': 50, 'qn': 200, 'Brand': 'ziva', 'color': 'blue'}\n",
            "1027 {'name': 'Cap', 'pr': 99, 'qn': 50, 'Brand': 'ziva', 'color': 'blue'}\n",
            "1028 {'name': 'Pajama', 'pr': 60, 'qn': 48, 'Brand': 'ziva', 'color': 'grey'}\n",
            "1029 {'name': 'capri', 'pr': 200, 'qn': 50, 'Brand': 'ziva', 'color': 'black'}\n",
            "1030 {'name': 'hat', 'pr': 20, 'qn': 50, 'Brand': 'levis', 'color': 'grey'}\n",
            "*********************************************************************************\n",
            "\n",
            "Enter Product ID :1001\n",
            "Enter quantity :5\n",
            "************************\n",
            "Product:  Sarees\n",
            "Price:  1000\n",
            "Quantity: 5\n",
            "************************\n",
            "Billing Amount:  5000\n",
            "-------------------------\n",
            "------------------------------\n",
            "Data Updated in Sales File!\n",
            "Data Updated in Inventory File!\n"
          ]
        }
      ]
    },
    {
      "cell_type": "code",
      "metadata": {
        "id": "oLCPRTk3djPx"
      },
      "source": [
        "data"
      ],
      "execution_count": null,
      "outputs": []
    },
    {
      "cell_type": "code",
      "metadata": {
        "colab": {
          "base_uri": "https://localhost:8080/"
        },
        "id": "jB09oJUx4_Ts",
        "outputId": "0457084f-383e-4d47-df70-160c9b0819e4"
      },
      "source": [
        "sales"
      ],
      "execution_count": 50,
      "outputs": [
        {
          "output_type": "execute_result",
          "data": {
            "text/plain": [
              "{'1': {'bill': 2880,\n",
              "  'pr': 60,\n",
              "  'pr_name': 'Pajama',\n",
              "  'prod_id': '1028',\n",
              "  'qn': 48,\n",
              "  'time_pr': 'Thu Sep  9 19:28:29 2021'},\n",
              " '2': {'bill': 38000,\n",
              "  'pr': 400,\n",
              "  'pr_name': 'Shirts',\n",
              "  'prod_id': '1005',\n",
              "  'qn': 95,\n",
              "  'time_pr': 'Thu Sep  9 19:28:57 2021'},\n",
              " '3': {'bill': 29000,\n",
              "  'pr': 1000,\n",
              "  'pr_name': 'Sarees',\n",
              "  'prod_id': '1001',\n",
              "  'qn': 29,\n",
              "  'time_pr': 'Thu Sep  9 19:29:43 2021'}}"
            ]
          },
          "metadata": {},
          "execution_count": 50
        }
      ]
    },
    {
      "cell_type": "code",
      "metadata": {
        "id": "mKKStPqSMbg8"
      },
      "source": [
        "prod_id = str(input(\"Enter product id: \"))                                                         # Adding product to the inventory list\n",
        "prod_name = str(input(\"Enter product name: \"))\n",
        "prod_price = int(input(\"Enter product price: \"))\n",
        "prod_quan = int(input(\"Enter quantity: \"))\n",
        "prod_brand = str(input(\"Enter product brand: \"))                                                          \n",
        "prod_color = str(input(\"Enter product color: \")) \n",
        "\n",
        "data[prod_id] = {'name': prod_name, \n",
        "                 'pr': prod_price, \n",
        "                 'qn': prod_quan,\n",
        "                 'Brand':prod_brand,\n",
        "                 'color':prod_color } \n"
      ],
      "execution_count": null,
      "outputs": []
    },
    {
      "cell_type": "code",
      "metadata": {
        "id": "4r4tyyo2NUDa"
      },
      "source": [
        "del data['1031']                                                                                   # deleting any product from the inventory list"
      ],
      "execution_count": 8,
      "outputs": []
    },
    {
      "cell_type": "code",
      "metadata": {
        "id": "z2MiawvMdjIZ"
      },
      "source": [
        ""
      ],
      "execution_count": null,
      "outputs": []
    },
    {
      "cell_type": "code",
      "metadata": {
        "id": "N8o0dWOpdjFy"
      },
      "source": [
        ""
      ],
      "execution_count": null,
      "outputs": []
    },
    {
      "cell_type": "code",
      "metadata": {
        "id": "rOxkKIZFJ5VS"
      },
      "source": [
        ""
      ],
      "execution_count": null,
      "outputs": []
    },
    {
      "cell_type": "code",
      "metadata": {
        "id": "ojk_fdkHJ5QC"
      },
      "source": [
        ""
      ],
      "execution_count": null,
      "outputs": []
    },
    {
      "cell_type": "code",
      "metadata": {
        "id": "8QvaddN3J5Kk"
      },
      "source": [
        ""
      ],
      "execution_count": null,
      "outputs": []
    }
  ]
}